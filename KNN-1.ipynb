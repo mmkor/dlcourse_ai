{
  "nbformat": 4,
  "nbformat_minor": 0,
  "metadata": {
    "colab": {
      "name": "KNN.ipynb",
      "version": "0.3.2",
      "provenance": [],
      "collapsed_sections": [],
      "toc_visible": true,
      "include_colab_link": true
    },
    "kernelspec": {
      "display_name": "Python 3",
      "language": "python",
      "name": "python3"
    }
  },
  "cells": [
    {
      "cell_type": "markdown",
      "metadata": {
        "id": "view-in-github",
        "colab_type": "text"
      },
      "source": [
        "<a href=\"https://colab.research.google.com/github/mmkor/dlcourse_ai/blob/master/KNN-1.ipynb\" target=\"_parent\"><img src=\"https://colab.research.google.com/assets/colab-badge.svg\" alt=\"Open In Colab\"/></a>"
      ]
    },
    {
      "metadata": {
        "id": "s5cWVb94OJck",
        "colab_type": "text"
      },
      "cell_type": "markdown",
      "source": [
        "# Задание 1.1 - Метод К-ближайших соседей (K-neariest neighbor classifier)\n",
        "\n",
        "В первом задании вы реализуете один из простейших алгоритмов машинного обучения - классификатор на основе метода K-ближайших соседей.\n",
        "Мы применим его к задачам\n",
        "- бинарной классификации (то есть, только двум классам)\n",
        "- многоклассовой классификации (то есть, нескольким классам)\n",
        "\n",
        "Так как методу необходим гиперпараметр (hyperparameter) - количество соседей, мы выберем его на основе кросс-валидации (cross-validation).\n",
        "\n",
        "Наша основная задача - научиться пользоваться numpy и представлять вычисления в векторном виде, а также ознакомиться с основными метриками, важными для задачи классификации.\n",
        "\n",
        "Перед выполнением задания:\n",
        "- запустите файл `download_data.sh`, чтобы скачать данные, которые мы будем использовать для тренировки\n",
        "- установите все необходимые библиотеки, запустив `pip install -r requirements.txt` (если раньше не работали с `pip`, вам сюда - https://pip.pypa.io/en/stable/quickstart/)\n",
        "\n",
        "Если вы раньше не работали с numpy, вам может помочь tutorial. Например этот:  \n",
        "http://cs231n.github.io/python-numpy-tutorial/"
      ]
    },
    {
      "metadata": {
        "id": "loA3fAvLSneS",
        "colab_type": "code",
        "colab": {}
      },
      "cell_type": "code",
      "source": [
        "from google.colab import drive\n",
        "drive.mount('/gdrive')"
      ],
      "execution_count": 0,
      "outputs": []
    },
    {
      "metadata": {
        "id": "q4G6XBpIbvyY",
        "colab_type": "code",
        "colab": {}
      },
      "cell_type": "code",
      "source": [
        "!sh \"/gdrive/My Drive/Colab Notebooks/prepare_data.sh\"\n"
      ],
      "execution_count": 0,
      "outputs": []
    },
    {
      "metadata": {
        "id": "tHiOZoRSWO1g",
        "colab_type": "code",
        "colab": {}
      },
      "cell_type": "code",
      "source": [
        "!sh ./download_data.sh\n"
      ],
      "execution_count": 0,
      "outputs": []
    },
    {
      "metadata": {
        "id": "PGBVZdWkOJcp",
        "colab_type": "code",
        "colab": {}
      },
      "cell_type": "code",
      "source": [
        "import numpy as np\n",
        "import matplotlib.pyplot as plt\n",
        "\n",
        "%matplotlib inline\n",
        "\n",
        "%load_ext autoreload\n",
        "%autoreload 2"
      ],
      "execution_count": 0,
      "outputs": []
    },
    {
      "metadata": {
        "id": "bLcaLq_nOJc0",
        "colab_type": "code",
        "colab": {}
      },
      "cell_type": "code",
      "source": [
        "from dataset import load_svhn\n",
        "from knn import KNN\n",
        "from metrics import binary_classification_metrics, multiclass_accuracy"
      ],
      "execution_count": 0,
      "outputs": []
    },
    {
      "metadata": {
        "id": "Veff6AlfOJc9",
        "colab_type": "text"
      },
      "cell_type": "markdown",
      "source": [
        "# Загрузим и визуализируем данные\n",
        "\n",
        "В задании уже дана функция `load_svhn`, загружающая данные с диска. Она возвращает данные для тренировки и для тестирования как numpy arrays.\n",
        "\n",
        "Мы будем использовать цифры из датасета Street View House Numbers (SVHN, http://ufldl.stanford.edu/housenumbers/), чтобы решать задачу хоть сколько-нибудь сложнее MNIST."
      ]
    },
    {
      "metadata": {
        "id": "ckRrWae1OJdB",
        "colab_type": "code",
        "colab": {}
      },
      "cell_type": "code",
      "source": [
        "train_X, train_y, test_X, test_y = load_svhn(\"data\", max_train=1000, max_test=100)"
      ],
      "execution_count": 0,
      "outputs": []
    },
    {
      "metadata": {
        "id": "mc_hYq35OJdK",
        "colab_type": "code",
        "colab": {}
      },
      "cell_type": "code",
      "source": [
        "samples_per_class = 5  # Number of samples per class to visualize\n",
        "plot_index = 1\n",
        "for example_index in range(samples_per_class):\n",
        "    for class_index in range(10):\n",
        "        plt.subplot(5, 10, plot_index)\n",
        "        image = train_X[train_y == class_index][example_index]\n",
        "        plt.imshow(image.astype(np.uint8))\n",
        "        plt.axis('off')\n",
        "        plot_index += 1"
      ],
      "execution_count": 0,
      "outputs": []
    },
    {
      "metadata": {
        "id": "-wjc_59qOJdU",
        "colab_type": "text"
      },
      "cell_type": "markdown",
      "source": [
        "# Сначала реализуем KNN для бинарной классификации\n",
        "\n",
        "В качестве задачи бинарной классификации мы натренируем модель, которая будет отличать цифру 0 от цифры 9."
      ]
    },
    {
      "metadata": {
        "id": "W9Sz4L3YOJdY",
        "colab_type": "code",
        "colab": {}
      },
      "cell_type": "code",
      "source": [
        "# First, let's prepare the labels and the source data\n",
        "\n",
        "# Only select 0s and 9s\n",
        "binary_train_mask = (train_y == 0) | (train_y == 9)\n",
        "binary_train_X = train_X[binary_train_mask]\n",
        "binary_train_y = train_y[binary_train_mask] == 0\n",
        "\n",
        "binary_test_mask = (test_y == 0) | (test_y == 9)\n",
        "binary_test_X = test_X[binary_test_mask]\n",
        "binary_test_y = test_y[binary_test_mask] == 0\n",
        "\n",
        "# Reshape to 1-dimensional array [num_samples, 32*32*3]\n",
        "binary_train_X = binary_train_X.reshape(binary_train_X.shape[0], -1)\n",
        "binary_test_X = binary_test_X.reshape(binary_test_X.shape[0], -1)"
      ],
      "execution_count": 0,
      "outputs": []
    },
    {
      "metadata": {
        "id": "qXZc50b5OJdj",
        "colab_type": "code",
        "colab": {}
      },
      "cell_type": "code",
      "source": [
        "# Create the classifier and call fit to train the model\n",
        "# KNN just remembers all the data\n",
        "knn_classifier = KNN(k=1)\n",
        "knn_classifier.fit(binary_train_X, binary_train_y)"
      ],
      "execution_count": 0,
      "outputs": []
    },
    {
      "metadata": {
        "id": "Z-ebSlZUOJdv",
        "colab_type": "text"
      },
      "cell_type": "markdown",
      "source": [
        "## Пришло время написать код! \n",
        "\n",
        "Последовательно реализуйте функции `compute_distances_two_loops`, `compute_distances_one_loop` и `compute_distances_no_loops`\n",
        "в файле `knn.py`.\n",
        "\n",
        "Эти функции строят массив расстояний между всеми векторами в тестовом наборе и в тренировочном наборе.  \n",
        "В результате они должны построить массив размера `(num_test, num_train)`, где координата `[i][j]` соотвествует расстоянию между i-м вектором в test (`test[i]`) и j-м вектором в train (`train[j]`).\n",
        "\n",
        "**Обратите внимание** Для простоты реализации мы будем использовать в качестве расстояния меру L1 (ее еще называют [Manhattan distance](https://ru.wikipedia.org/wiki/%D0%A0%D0%B0%D1%81%D1%81%D1%82%D0%BE%D1%8F%D0%BD%D0%B8%D0%B5_%D0%B3%D0%BE%D1%80%D0%BE%D0%B4%D1%81%D0%BA%D0%B8%D1%85_%D0%BA%D0%B2%D0%B0%D1%80%D1%82%D0%B0%D0%BB%D0%BE%D0%B2)).\n",
        "\n",
        "![image.png](attachment:image.png)"
      ]
    },
    {
      "metadata": {
        "id": "z9T7EbJEOJdz",
        "colab_type": "code",
        "colab": {}
      },
      "cell_type": "code",
      "source": [
        "# TODO: implement compute_distances_two_loops in knn.py\n",
        "dists = knn_classifier.compute_distances_two_loops(binary_test_X)\n",
        "assert np.isclose(dists[0, 10], np.sum(np.abs(binary_test_X[0] - binary_train_X[10])))"
      ],
      "execution_count": 0,
      "outputs": []
    },
    {
      "metadata": {
        "id": "KDBCs2EiOJd-",
        "colab_type": "code",
        "colab": {}
      },
      "cell_type": "code",
      "source": [
        "# TODO: implement compute_distances_one_loop in knn.py\n",
        "dists = knn_classifier.compute_distances_one_loop(binary_test_X)\n",
        "assert np.isclose(dists[0, 10], np.sum(np.abs(binary_test_X[0] - binary_train_X[10])))\n"
      ],
      "execution_count": 0,
      "outputs": []
    },
    {
      "metadata": {
        "id": "E6fWGhW3OJeK",
        "colab_type": "code",
        "colab": {}
      },
      "cell_type": "code",
      "source": [
        "# TODO: implement compute_distances_no_loops in knn.py\n",
        "dists = knn_classifier.compute_distances_no_loops(binary_test_X)\n",
        "assert np.isclose(dists[0, 10], np.sum(np.abs(binary_test_X[0] - binary_train_X[10])))\n"
      ],
      "execution_count": 0,
      "outputs": []
    },
    {
      "metadata": {
        "id": "LsOJ5a9EOJeT",
        "colab_type": "code",
        "colab": {}
      },
      "cell_type": "code",
      "source": [
        "# Lets look at the performance difference\n",
        "%timeit knn_classifier.compute_distances_two_loops(binary_test_X)\n",
        "%timeit knn_classifier.compute_distances_one_loop(binary_test_X)\n",
        "%timeit knn_classifier.compute_distances_no_loops(binary_test_X)"
      ],
      "execution_count": 0,
      "outputs": []
    },
    {
      "metadata": {
        "id": "GvzzLftROJee",
        "colab_type": "code",
        "colab": {}
      },
      "cell_type": "code",
      "source": [
        "# TODO: implement predict_labels_binary in knn.py\n",
        "prediction = knn_classifier.predict(binary_test_X)"
      ],
      "execution_count": 0,
      "outputs": []
    },
    {
      "metadata": {
        "id": "ej4cUMtfOJer",
        "colab_type": "code",
        "colab": {}
      },
      "cell_type": "code",
      "source": [
        "# TODO: implement binary_classification_metrics in metrics.py\n",
        "precision, recall, f1, accuracy = binary_classification_metrics(prediction, binary_test_y)\n",
        "print(\"KNN with k = %s\" % knn_classifier.k)\n",
        "print(\"Accuracy: %4.2f, Precision: %4.2f, Recall: %4.2f, F1: %4.2f\" % (accuracy, precision, recall, f1)) "
      ],
      "execution_count": 0,
      "outputs": []
    },
    {
      "metadata": {
        "id": "op1pkdT-OJez",
        "colab_type": "code",
        "colab": {}
      },
      "cell_type": "code",
      "source": [
        "# Let's put everything together and run KNN with k=3 and see how we do\n",
        "knn_classifier_3 = KNN(k=3)\n",
        "knn_classifier_3.fit(binary_train_X, binary_train_y)\n",
        "prediction = knn_classifier_3.predict(binary_test_X)\n",
        "\n",
        "precision, recall, f1, accuracy = binary_classification_metrics(prediction, binary_test_y)\n",
        "print(\"KNN with k = %s\" % knn_classifier_3.k)\n",
        "print(\"Accuracy: %4.2f, Precision: %4.2f, Recall: %4.2f, F1: %4.2f\" % (accuracy, precision, recall, f1)) "
      ],
      "execution_count": 0,
      "outputs": []
    },
    {
      "metadata": {
        "id": "2-aoQUJxOJe7",
        "colab_type": "text"
      },
      "cell_type": "markdown",
      "source": [
        "# Кросс-валидация (cross-validation)\n",
        "\n",
        "Попробуем найти лучшее значение k! \n",
        "\n",
        "Для этого мы воспользуемся k-fold cross-validation (https://en.wikipedia.org/wiki/Cross-validation_(statistics)#k-fold_cross-validation). Мы разделим тренировочные данные на 5 фолдов (folds), и по очереди будем использовать каждый из них в качестве проверочных данных (validation data), а остальные -- в качестве тренировочных (training data).\n",
        "\n",
        "В качестве финальной оценки эффективности k мы усредним значения F1 score на всех фолдах.\n",
        "После этого мы просто выберем значение k с лучшим значением метрики.\n",
        "\n",
        "*Бонус*: есть ли другие варианты агрегировать F1 score по всем фолдам? Напишите плюсы и минусы в клетке ниже."
      ]
    },
    {
      "metadata": {
        "id": "fWVB1OMiOJe-",
        "colab_type": "code",
        "colab": {}
      },
      "cell_type": "code",
      "source": [
        "# Find the best k using cross-validation based on F1 score\n",
        "num_folds = 5\n",
        "train_folds_X = []\n",
        "train_folds_y = []\n",
        "\n",
        "# TODO: split the training data in 5 folds and store them in train_folds_X/train_folds_y\n",
        "\n",
        "k_choices = [1, 2, 3, 5, 8, 10, 15, 20, 25, 50]\n",
        "k_to_f1 = {}  # dict mapping k values to mean F1 scores (int -> float)\n",
        "\n",
        "for k in k_choices:\n",
        "    # TODO: perform cross-validation\n",
        "    # Go through every fold and use it for testing and all other folds for training\n",
        "    # Perform training and produce F1 score metric on the validation dataset\n",
        "    # Average F1 from all the folds and write it into k_to_f1\n",
        "\n",
        "    pass\n",
        "\n",
        "for k in sorted(k_to_f1):\n",
        "    print('k = %d, f1 = %f' % (k, k_to_f1[k]))"
      ],
      "execution_count": 0,
      "outputs": []
    },
    {
      "metadata": {
        "id": "to2xhZ-COJfH",
        "colab_type": "text"
      },
      "cell_type": "markdown",
      "source": [
        "### Проверим, как хорошо работает лучшее значение k на тестовых данных (test data)"
      ]
    },
    {
      "metadata": {
        "id": "yMjiUP-xOJfK",
        "colab_type": "code",
        "colab": {}
      },
      "cell_type": "code",
      "source": [
        "# TODO Set the best k to the best value found by cross-validation\n",
        "best_k = 1\n",
        "\n",
        "best_knn_classifier = KNN(k=best_k)\n",
        "best_knn_classifier.fit(binary_train_X, binary_train_y)\n",
        "prediction = best_knn_classifier.predict(binary_test_X)\n",
        "\n",
        "precision, recall, f1, accuracy = binary_classification_metrics(prediction, binary_test_y)\n",
        "print(\"Best KNN with k = %s\" % best_k)\n",
        "print(\"Accuracy: %4.2f, Precision: %4.2f, Recall: %4.2f, F1: %4.2f\" % (accuracy, precision, recall, f1)) "
      ],
      "execution_count": 0,
      "outputs": []
    },
    {
      "metadata": {
        "id": "pmHrfINgOJfW",
        "colab_type": "text"
      },
      "cell_type": "markdown",
      "source": [
        "# Многоклассовая классификация (multi-class classification)\n",
        "\n",
        "Переходим к следующему этапу - классификации на каждую цифру."
      ]
    },
    {
      "metadata": {
        "id": "SALKZPCXOJfZ",
        "colab_type": "code",
        "colab": {}
      },
      "cell_type": "code",
      "source": [
        "# Now let's use all 10 classes\n",
        "train_X = train_X.reshape(train_X.shape[0], -1)\n",
        "test_X = test_X.reshape(test_X.shape[0], -1)\n",
        "\n",
        "knn_classifier = KNN(k=1)\n",
        "knn_classifier.fit(train_X, train_y)"
      ],
      "execution_count": 0,
      "outputs": []
    },
    {
      "metadata": {
        "id": "LijZm5B7OJfh",
        "colab_type": "code",
        "colab": {}
      },
      "cell_type": "code",
      "source": [
        "# TODO: Implement predict_labels_multiclass\n",
        "predict = knn_classifier.predict(test_X)"
      ],
      "execution_count": 0,
      "outputs": []
    },
    {
      "metadata": {
        "id": "bBSit6wqOJfp",
        "colab_type": "code",
        "colab": {}
      },
      "cell_type": "code",
      "source": [
        "# TODO: Implement multiclass_accuracy\n",
        "accuracy = multiclass_accuracy(predict, test_y)\n",
        "print(\"Accuracy: %4.2f\" % accuracy)"
      ],
      "execution_count": 0,
      "outputs": []
    },
    {
      "metadata": {
        "id": "vAPI6q0gOJfz",
        "colab_type": "text"
      },
      "cell_type": "markdown",
      "source": [
        "Снова кросс-валидация. Теперь нашей основной метрикой стала точность (accuracy), и ее мы тоже будем усреднять по всем фолдам."
      ]
    },
    {
      "metadata": {
        "id": "VGnd1RYfOJf2",
        "colab_type": "code",
        "colab": {}
      },
      "cell_type": "code",
      "source": [
        "# Find the best k using cross-validation based on accuracy\n",
        "num_folds = 5\n",
        "train_folds_X = []\n",
        "train_folds_y = []\n",
        "\n",
        "# TODO: split the training data in 5 folds and store them in train_folds_X/train_folds_y\n",
        "\n",
        "k_choices = [1, 2, 3, 5, 8, 10, 15, 20, 25, 50]\n",
        "k_to_accuracy = {}\n",
        "\n",
        "for k in k_choices:\n",
        "    # TODO: perform cross-validation\n",
        "    # Go through every fold and use it for testing and all other folds for validation\n",
        "    # Perform training and produce accuracy metric on the validation dataset\n",
        "    # Average accuracy from all the folds and write it into k_to_accuracy\n",
        "    pass\n",
        "\n",
        "for k in sorted(k_to_accuracy):\n",
        "    print('k = %d, accuracy = %f' % (k, k_to_accuracy[k]))"
      ],
      "execution_count": 0,
      "outputs": []
    },
    {
      "metadata": {
        "id": "5FuaBZSROJgA",
        "colab_type": "text"
      },
      "cell_type": "markdown",
      "source": [
        "### Финальный тест - классификация на 10 классов на тестовой выборке (test data)\n",
        "\n",
        "Если все реализовано правильно, вы должны увидеть точность не менее **0.2**."
      ]
    },
    {
      "metadata": {
        "id": "fsYjGu_yOJgG",
        "colab_type": "code",
        "colab": {}
      },
      "cell_type": "code",
      "source": [
        "# TODO Set the best k as a best from computed\n",
        "best_k = 1\n",
        "\n",
        "best_knn_classifier = KNN(k=best_k)\n",
        "best_knn_classifier.fit(train_X, train_y)\n",
        "prediction = best_knn_classifier.predict(test_X)\n",
        "\n",
        "# Accuracy should be around 20%!\n",
        "accuracy = multiclass_accuracy(prediction, test_y)\n",
        "print(\"Accuracy: %4.2f\" % accuracy)"
      ],
      "execution_count": 0,
      "outputs": []
    }
  ]
}